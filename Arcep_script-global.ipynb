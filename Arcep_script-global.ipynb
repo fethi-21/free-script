{
 "cells": [
  {
   "cell_type": "code",
   "execution_count": 1,
   "metadata": {},
   "outputs": [],
   "source": [
    "import pandas as pd \n",
    "from sklearn.neighbors import DistanceMetric\n",
    "import numpy as np\n",
    "\n",
    "\n",
    "import cx_Oracle as cx\n",
    "\n",
    "import tkinter as tk\n",
    "from tkinter import filedialog, messagebox, ttk\n",
    "import mariadb\n",
    "import sys\n",
    "import datetime\n",
    "\n",
    "from scipy.spatial import cKDTree\n",
    "from shapely.geometry import Point\n",
    "import geopandas as gpd\n",
    "import re"
   ]
  },
  {
   "cell_type": "code",
   "execution_count": 2,
   "metadata": {},
   "outputs": [],
   "source": [
    "df_arcep=pd.read_excel(\".\\\\Livrable de référence ARCEP2023_Data_Agglos_v3_Intermediaire2_FRE.xlsx\",usecols=['Date','AutoCall Scenario Name','[Down] APP Throughput [Mbps]','Usage','Serving PCI','Serving Cell EARFCN','Address','Call Start Lat','Call_Start_Lon','LTE CA Network Ratio','Serving Cell RSRP','PCI_5G','Pcell_PCI','NR-ARFCN','Pcell_NR-ARFCN'])"
   ]
  },
  {
   "cell_type": "code",
   "execution_count": 3,
   "metadata": {},
   "outputs": [],
   "source": [
    "df2=pd.read_csv('.\\\\liste_sites_atoll.csv',encoding=\"ISO-8859-1\",delimiter=\";\")"
   ]
  },
  {
   "cell_type": "code",
   "execution_count": 4,
   "metadata": {},
   "outputs": [],
   "source": [
    "import cx_Oracle as cx\n",
    "conora = cx.connect('fhattab'+'/'+'atoll'+'@//192.168.105.23:1521/orclpdb',encoding='iso-8859-1')\n",
    "cursor = conora.cursor()\n",
    "\n",
    "df_atoll = pd.read_sql(\"select * from ATOLL_5GMRAT.sites where (FIELDCHAR2 ='INT' or FIELDCHAR2 ='DTX' or FIELDCHAR2 ='FTX' \\\n",
    "    or FIELDCHAR2 ='SRI')\",conora)\n",
    "\n",
    "\n",
    "for i,j in zip(df_atoll,df2):\n",
    "    df_atoll.rename(columns={i:j},inplace=True) \n",
    "usecols=[\"Nom\",\"Longitude\",\"Latitude\",\"ETAT SITE - Config\"]\n",
    "df_atoll=df_atoll[usecols]"
   ]
  },
  {
   "cell_type": "code",
   "execution_count": 5,
   "metadata": {},
   "outputs": [],
   "source": [
    "df_export=pd.read_csv('.\\\\export_Cellules_5g_20230725.csv',delimiter=\",\")"
   ]
  },
  {
   "cell_type": "code",
   "execution_count": 6,
   "metadata": {},
   "outputs": [
    {
     "data": {
      "text/html": [
       "<div>\n",
       "<style scoped>\n",
       "    .dataframe tbody tr th:only-of-type {\n",
       "        vertical-align: middle;\n",
       "    }\n",
       "\n",
       "    .dataframe tbody tr th {\n",
       "        vertical-align: top;\n",
       "    }\n",
       "\n",
       "    .dataframe thead th {\n",
       "        text-align: right;\n",
       "    }\n",
       "</style>\n",
       "<table border=\"1\" class=\"dataframe\">\n",
       "  <thead>\n",
       "    <tr style=\"text-align: right;\">\n",
       "      <th></th>\n",
       "      <th>Call_Start_Lon</th>\n",
       "      <th>Call Start Lat</th>\n",
       "      <th>AutoCall Scenario Name</th>\n",
       "      <th>LTE CA Network Ratio</th>\n",
       "      <th>Serving Cell RSRP</th>\n",
       "      <th>Serving Cell EARFCN</th>\n",
       "      <th>Serving PCI</th>\n",
       "      <th>PCI_5G</th>\n",
       "      <th>NR-ARFCN</th>\n",
       "      <th>Pcell_NR-ARFCN</th>\n",
       "      <th>Pcell_PCI</th>\n",
       "      <th>[Down] APP Throughput [Mbps]</th>\n",
       "      <th>Usage</th>\n",
       "      <th>Address</th>\n",
       "      <th>Date</th>\n",
       "    </tr>\n",
       "  </thead>\n",
       "  <tbody>\n",
       "    <tr>\n",
       "      <th>43</th>\n",
       "      <td>0.22640</td>\n",
       "      <td>47.99675</td>\n",
       "      <td>DL_250MO_IPV6 (App_HTTP)</td>\n",
       "      <td>0.0</td>\n",
       "      <td>-107.4</td>\n",
       "      <td>375</td>\n",
       "      <td>147</td>\n",
       "      <td>651</td>\n",
       "      <td>645024</td>\n",
       "      <td>NaN</td>\n",
       "      <td>NaN</td>\n",
       "      <td>40741.777</td>\n",
       "      <td>indoor</td>\n",
       "      <td>284 avenue Bollée 72000 Le Mans</td>\n",
       "      <td>02/05/2023</td>\n",
       "    </tr>\n",
       "    <tr>\n",
       "      <th>44</th>\n",
       "      <td>0.22714</td>\n",
       "      <td>47.99656</td>\n",
       "      <td>UL_50MO_IPV6 (App_HTTP)</td>\n",
       "      <td>0.0</td>\n",
       "      <td>-106.6</td>\n",
       "      <td>375</td>\n",
       "      <td>147</td>\n",
       "      <td>651</td>\n",
       "      <td>645024</td>\n",
       "      <td>NaN</td>\n",
       "      <td>NaN</td>\n",
       "      <td>NaN</td>\n",
       "      <td>indoor</td>\n",
       "      <td>284 avenue Bollée 72000 Le Mans</td>\n",
       "      <td>02/05/2023</td>\n",
       "    </tr>\n",
       "    <tr>\n",
       "      <th>58</th>\n",
       "      <td>0.22714</td>\n",
       "      <td>47.99656</td>\n",
       "      <td>DL_250MO_IPV6 (App_HTTP)</td>\n",
       "      <td>0.0</td>\n",
       "      <td>-110.6</td>\n",
       "      <td>375</td>\n",
       "      <td>483</td>\n",
       "      <td>760;651;760</td>\n",
       "      <td>645024</td>\n",
       "      <td>NaN</td>\n",
       "      <td>NaN</td>\n",
       "      <td>1794.540</td>\n",
       "      <td>outdoor</td>\n",
       "      <td>284 avenue Bollée 72000 Le Mans</td>\n",
       "      <td>02/05/2023</td>\n",
       "    </tr>\n",
       "    <tr>\n",
       "      <th>59</th>\n",
       "      <td>0.22714</td>\n",
       "      <td>47.99656</td>\n",
       "      <td>UL_50MO_IPV6 (App_HTTP)</td>\n",
       "      <td>0.0</td>\n",
       "      <td>-110.5</td>\n",
       "      <td>375</td>\n",
       "      <td>483</td>\n",
       "      <td>760</td>\n",
       "      <td>645024</td>\n",
       "      <td>NaN</td>\n",
       "      <td>NaN</td>\n",
       "      <td>NaN</td>\n",
       "      <td>outdoor</td>\n",
       "      <td>284 avenue Bollée 72000 Le Mans</td>\n",
       "      <td>02/05/2023</td>\n",
       "    </tr>\n",
       "    <tr>\n",
       "      <th>83</th>\n",
       "      <td>0.19663</td>\n",
       "      <td>48.00681</td>\n",
       "      <td>DL_250MO_IPV6 (App_HTTP)</td>\n",
       "      <td>0.0</td>\n",
       "      <td>-95.3</td>\n",
       "      <td>3350</td>\n",
       "      <td>435</td>\n",
       "      <td>939</td>\n",
       "      <td>645024</td>\n",
       "      <td>NaN</td>\n",
       "      <td>NaN</td>\n",
       "      <td>75022.914</td>\n",
       "      <td>indoor</td>\n",
       "      <td>5 rue du Hallai 72000 Le Mans</td>\n",
       "      <td>02/05/2023</td>\n",
       "    </tr>\n",
       "  </tbody>\n",
       "</table>\n",
       "</div>"
      ],
      "text/plain": [
       "    Call_Start_Lon  Call Start Lat    AutoCall Scenario Name  \\\n",
       "43         0.22640        47.99675  DL_250MO_IPV6 (App_HTTP)   \n",
       "44         0.22714        47.99656   UL_50MO_IPV6 (App_HTTP)   \n",
       "58         0.22714        47.99656  DL_250MO_IPV6 (App_HTTP)   \n",
       "59         0.22714        47.99656   UL_50MO_IPV6 (App_HTTP)   \n",
       "83         0.19663        48.00681  DL_250MO_IPV6 (App_HTTP)   \n",
       "\n",
       "    LTE CA Network Ratio  Serving Cell RSRP Serving Cell EARFCN Serving PCI  \\\n",
       "43                   0.0             -107.4                 375         147   \n",
       "44                   0.0             -106.6                 375         147   \n",
       "58                   0.0             -110.6                 375         483   \n",
       "59                   0.0             -110.5                 375         483   \n",
       "83                   0.0              -95.3                3350         435   \n",
       "\n",
       "         PCI_5G NR-ARFCN Pcell_NR-ARFCN Pcell_PCI  \\\n",
       "43          651   645024            NaN       NaN   \n",
       "44          651   645024            NaN       NaN   \n",
       "58  760;651;760   645024            NaN       NaN   \n",
       "59          760   645024            NaN       NaN   \n",
       "83          939   645024            NaN       NaN   \n",
       "\n",
       "    [Down] APP Throughput [Mbps]    Usage                          Address  \\\n",
       "43                     40741.777   indoor  284 avenue Bollée 72000 Le Mans   \n",
       "44                           NaN   indoor  284 avenue Bollée 72000 Le Mans   \n",
       "58                      1794.540  outdoor  284 avenue Bollée 72000 Le Mans   \n",
       "59                           NaN  outdoor  284 avenue Bollée 72000 Le Mans   \n",
       "83                     75022.914   indoor    5 rue du Hallai 72000 Le Mans   \n",
       "\n",
       "          Date  \n",
       "43  02/05/2023  \n",
       "44  02/05/2023  \n",
       "58  02/05/2023  \n",
       "59  02/05/2023  \n",
       "83  02/05/2023  "
      ]
     },
     "execution_count": 6,
     "metadata": {},
     "output_type": "execute_result"
    }
   ],
   "source": [
    "df_arcep=df_arcep[df_arcep[\"Usage\"]!='incar']\n",
    "df_arcep=df_arcep[df_arcep[\"AutoCall Scenario Name\"].str.startswith((\"DL_250\",\"UL_50\"))]\n",
    "df_arcep.head()"
   ]
  },
  {
   "cell_type": "code",
   "execution_count": 8,
   "metadata": {},
   "outputs": [],
   "source": [
    "df_point=df_arcep.copy()"
   ]
  },
  {
   "cell_type": "code",
   "execution_count": 9,
   "metadata": {},
   "outputs": [],
   "source": [
    "df_arcep=df_point.copy()"
   ]
  },
  {
   "cell_type": "code",
   "execution_count": 10,
   "metadata": {},
   "outputs": [],
   "source": [
    "df_export=pd.read_csv('.\\\\export_Lncel_20230724 (2).csv',delimiter=\",\")"
   ]
  },
  {
   "cell_type": "code",
   "execution_count": 11,
   "metadata": {},
   "outputs": [
    {
     "ename": "KeyError",
     "evalue": "'site'",
     "output_type": "error",
     "traceback": [
      "\u001b[1;31m---------------------------------------------------------------------------\u001b[0m",
      "\u001b[1;31mKeyError\u001b[0m                                  Traceback (most recent call last)",
      "\u001b[1;32m~\\Anaconda3\\lib\\site-packages\\pandas\\core\\indexes\\base.py\u001b[0m in \u001b[0;36mget_loc\u001b[1;34m(self, key, method, tolerance)\u001b[0m\n\u001b[0;32m   2894\u001b[0m             \u001b[1;32mtry\u001b[0m\u001b[1;33m:\u001b[0m\u001b[1;33m\u001b[0m\u001b[1;33m\u001b[0m\u001b[0m\n\u001b[1;32m-> 2895\u001b[1;33m                 \u001b[1;32mreturn\u001b[0m \u001b[0mself\u001b[0m\u001b[1;33m.\u001b[0m\u001b[0m_engine\u001b[0m\u001b[1;33m.\u001b[0m\u001b[0mget_loc\u001b[0m\u001b[1;33m(\u001b[0m\u001b[0mcasted_key\u001b[0m\u001b[1;33m)\u001b[0m\u001b[1;33m\u001b[0m\u001b[1;33m\u001b[0m\u001b[0m\n\u001b[0m\u001b[0;32m   2896\u001b[0m             \u001b[1;32mexcept\u001b[0m \u001b[0mKeyError\u001b[0m \u001b[1;32mas\u001b[0m \u001b[0merr\u001b[0m\u001b[1;33m:\u001b[0m\u001b[1;33m\u001b[0m\u001b[1;33m\u001b[0m\u001b[0m\n",
      "\u001b[1;32mpandas\\_libs\\index.pyx\u001b[0m in \u001b[0;36mpandas._libs.index.IndexEngine.get_loc\u001b[1;34m()\u001b[0m\n",
      "\u001b[1;32mpandas\\_libs\\index.pyx\u001b[0m in \u001b[0;36mpandas._libs.index.IndexEngine.get_loc\u001b[1;34m()\u001b[0m\n",
      "\u001b[1;32mpandas\\_libs\\hashtable_class_helper.pxi\u001b[0m in \u001b[0;36mpandas._libs.hashtable.PyObjectHashTable.get_item\u001b[1;34m()\u001b[0m\n",
      "\u001b[1;32mpandas\\_libs\\hashtable_class_helper.pxi\u001b[0m in \u001b[0;36mpandas._libs.hashtable.PyObjectHashTable.get_item\u001b[1;34m()\u001b[0m\n",
      "\u001b[1;31mKeyError\u001b[0m: 'site'",
      "\nThe above exception was the direct cause of the following exception:\n",
      "\u001b[1;31mKeyError\u001b[0m                                  Traceback (most recent call last)",
      "\u001b[1;32m<ipython-input-11-b903bc95b719>\u001b[0m in \u001b[0;36m<module>\u001b[1;34m\u001b[0m\n\u001b[1;32m----> 1\u001b[1;33m \u001b[0mdf_export\u001b[0m\u001b[1;33m[\u001b[0m\u001b[1;34m'site'\u001b[0m\u001b[1;33m]\u001b[0m\u001b[1;33m\u001b[0m\u001b[1;33m\u001b[0m\u001b[0m\n\u001b[0m",
      "\u001b[1;32m~\\Anaconda3\\lib\\site-packages\\pandas\\core\\frame.py\u001b[0m in \u001b[0;36m__getitem__\u001b[1;34m(self, key)\u001b[0m\n\u001b[0;32m   2900\u001b[0m             \u001b[1;32mif\u001b[0m \u001b[0mself\u001b[0m\u001b[1;33m.\u001b[0m\u001b[0mcolumns\u001b[0m\u001b[1;33m.\u001b[0m\u001b[0mnlevels\u001b[0m \u001b[1;33m>\u001b[0m \u001b[1;36m1\u001b[0m\u001b[1;33m:\u001b[0m\u001b[1;33m\u001b[0m\u001b[1;33m\u001b[0m\u001b[0m\n\u001b[0;32m   2901\u001b[0m                 \u001b[1;32mreturn\u001b[0m \u001b[0mself\u001b[0m\u001b[1;33m.\u001b[0m\u001b[0m_getitem_multilevel\u001b[0m\u001b[1;33m(\u001b[0m\u001b[0mkey\u001b[0m\u001b[1;33m)\u001b[0m\u001b[1;33m\u001b[0m\u001b[1;33m\u001b[0m\u001b[0m\n\u001b[1;32m-> 2902\u001b[1;33m             \u001b[0mindexer\u001b[0m \u001b[1;33m=\u001b[0m \u001b[0mself\u001b[0m\u001b[1;33m.\u001b[0m\u001b[0mcolumns\u001b[0m\u001b[1;33m.\u001b[0m\u001b[0mget_loc\u001b[0m\u001b[1;33m(\u001b[0m\u001b[0mkey\u001b[0m\u001b[1;33m)\u001b[0m\u001b[1;33m\u001b[0m\u001b[1;33m\u001b[0m\u001b[0m\n\u001b[0m\u001b[0;32m   2903\u001b[0m             \u001b[1;32mif\u001b[0m \u001b[0mis_integer\u001b[0m\u001b[1;33m(\u001b[0m\u001b[0mindexer\u001b[0m\u001b[1;33m)\u001b[0m\u001b[1;33m:\u001b[0m\u001b[1;33m\u001b[0m\u001b[1;33m\u001b[0m\u001b[0m\n\u001b[0;32m   2904\u001b[0m                 \u001b[0mindexer\u001b[0m \u001b[1;33m=\u001b[0m \u001b[1;33m[\u001b[0m\u001b[0mindexer\u001b[0m\u001b[1;33m]\u001b[0m\u001b[1;33m\u001b[0m\u001b[1;33m\u001b[0m\u001b[0m\n",
      "\u001b[1;32m~\\Anaconda3\\lib\\site-packages\\pandas\\core\\indexes\\base.py\u001b[0m in \u001b[0;36mget_loc\u001b[1;34m(self, key, method, tolerance)\u001b[0m\n\u001b[0;32m   2895\u001b[0m                 \u001b[1;32mreturn\u001b[0m \u001b[0mself\u001b[0m\u001b[1;33m.\u001b[0m\u001b[0m_engine\u001b[0m\u001b[1;33m.\u001b[0m\u001b[0mget_loc\u001b[0m\u001b[1;33m(\u001b[0m\u001b[0mcasted_key\u001b[0m\u001b[1;33m)\u001b[0m\u001b[1;33m\u001b[0m\u001b[1;33m\u001b[0m\u001b[0m\n\u001b[0;32m   2896\u001b[0m             \u001b[1;32mexcept\u001b[0m \u001b[0mKeyError\u001b[0m \u001b[1;32mas\u001b[0m \u001b[0merr\u001b[0m\u001b[1;33m:\u001b[0m\u001b[1;33m\u001b[0m\u001b[1;33m\u001b[0m\u001b[0m\n\u001b[1;32m-> 2897\u001b[1;33m                 \u001b[1;32mraise\u001b[0m \u001b[0mKeyError\u001b[0m\u001b[1;33m(\u001b[0m\u001b[0mkey\u001b[0m\u001b[1;33m)\u001b[0m \u001b[1;32mfrom\u001b[0m \u001b[0merr\u001b[0m\u001b[1;33m\u001b[0m\u001b[1;33m\u001b[0m\u001b[0m\n\u001b[0m\u001b[0;32m   2898\u001b[0m \u001b[1;33m\u001b[0m\u001b[0m\n\u001b[0;32m   2899\u001b[0m         \u001b[1;32mif\u001b[0m \u001b[0mtolerance\u001b[0m \u001b[1;32mis\u001b[0m \u001b[1;32mnot\u001b[0m \u001b[1;32mNone\u001b[0m\u001b[1;33m:\u001b[0m\u001b[1;33m\u001b[0m\u001b[1;33m\u001b[0m\u001b[0m\n",
      "\u001b[1;31mKeyError\u001b[0m: 'site'"
     ]
    }
   ],
   "source": [
    "df_export['site']"
   ]
  },
  {
   "cell_type": "code",
   "execution_count": 12,
   "metadata": {},
   "outputs": [
    {
     "ename": "KeyError",
     "evalue": "\"['site'] not in index\"",
     "output_type": "error",
     "traceback": [
      "\u001b[1;31m---------------------------------------------------------------------------\u001b[0m",
      "\u001b[1;31mKeyError\u001b[0m                                  Traceback (most recent call last)",
      "\u001b[1;32m<ipython-input-12-140d665e9a53>\u001b[0m in \u001b[0;36m<module>\u001b[1;34m\u001b[0m\n\u001b[0;32m      1\u001b[0m \u001b[0mdf_export\u001b[0m\u001b[1;33m=\u001b[0m\u001b[0mpd\u001b[0m\u001b[1;33m.\u001b[0m\u001b[0mread_csv\u001b[0m\u001b[1;33m(\u001b[0m\u001b[1;34m'.\\\\export_Lncel_20230724 (2).csv'\u001b[0m\u001b[1;33m,\u001b[0m\u001b[0mdelimiter\u001b[0m\u001b[1;33m=\u001b[0m\u001b[1;34m\",\"\u001b[0m\u001b[1;33m)\u001b[0m\u001b[1;33m\u001b[0m\u001b[1;33m\u001b[0m\u001b[0m\n\u001b[0;32m      2\u001b[0m \u001b[0mdf_zb\u001b[0m\u001b[1;33m=\u001b[0m\u001b[0mpd\u001b[0m\u001b[1;33m.\u001b[0m\u001b[0mread_csv\u001b[0m\u001b[1;33m(\u001b[0m\u001b[1;34m'.\\\\zone_blache_2023_07_24.csv'\u001b[0m\u001b[1;33m,\u001b[0m\u001b[0mdelimiter\u001b[0m\u001b[1;33m=\u001b[0m\u001b[1;34m\";\"\u001b[0m\u001b[1;33m,\u001b[0m\u001b[0musecols\u001b[0m\u001b[1;33m=\u001b[0m\u001b[1;33m[\u001b[0m\u001b[1;34m\"site\"\u001b[0m\u001b[1;33m,\u001b[0m\u001b[1;34m\"cell_name\"\u001b[0m\u001b[1;33m,\u001b[0m\u001b[1;34m\"earfcn_dl\"\u001b[0m\u001b[1;33m,\u001b[0m\u001b[1;34m\"PCI\"\u001b[0m\u001b[1;33m]\u001b[0m\u001b[1;33m)\u001b[0m\u001b[1;33m\u001b[0m\u001b[1;33m\u001b[0m\u001b[0m\n\u001b[1;32m----> 3\u001b[1;33m \u001b[0mdf_zb\u001b[0m\u001b[1;33m.\u001b[0m\u001b[0mcolumns\u001b[0m\u001b[1;33m=\u001b[0m\u001b[0mdf_export\u001b[0m\u001b[1;33m[\u001b[0m\u001b[1;33m[\u001b[0m\u001b[1;34m\"PCI\"\u001b[0m\u001b[1;33m,\u001b[0m\u001b[1;34m\"earfcnDL\"\u001b[0m\u001b[1;33m,\u001b[0m\u001b[1;34m\"site\"\u001b[0m\u001b[1;33m,\u001b[0m\u001b[1;34m\"name\"\u001b[0m\u001b[1;33m]\u001b[0m\u001b[1;33m]\u001b[0m\u001b[1;33m.\u001b[0m\u001b[0mcolumns\u001b[0m\u001b[1;33m\u001b[0m\u001b[1;33m\u001b[0m\u001b[0m\n\u001b[0m\u001b[0;32m      4\u001b[0m \u001b[0mdf_glb\u001b[0m\u001b[1;33m=\u001b[0m\u001b[0mpd\u001b[0m\u001b[1;33m.\u001b[0m\u001b[0mconcat\u001b[0m\u001b[1;33m(\u001b[0m\u001b[1;33m[\u001b[0m\u001b[0mdf_export\u001b[0m\u001b[1;33m[\u001b[0m\u001b[1;33m[\u001b[0m\u001b[1;34m\"PCI\"\u001b[0m\u001b[1;33m,\u001b[0m\u001b[1;34m\"earfcnDL\"\u001b[0m\u001b[1;33m,\u001b[0m\u001b[1;34m\"site\"\u001b[0m\u001b[1;33m,\u001b[0m\u001b[1;34m\"name\"\u001b[0m\u001b[1;33m]\u001b[0m\u001b[1;33m]\u001b[0m\u001b[1;33m,\u001b[0m\u001b[0mdf_zb\u001b[0m\u001b[1;33m]\u001b[0m\u001b[1;33m)\u001b[0m\u001b[1;33m.\u001b[0m\u001b[0mreset_index\u001b[0m\u001b[1;33m(\u001b[0m\u001b[1;33m)\u001b[0m\u001b[1;33m\u001b[0m\u001b[1;33m\u001b[0m\u001b[0m\n\u001b[0;32m      5\u001b[0m \u001b[0mdf_export\u001b[0m\u001b[1;33m.\u001b[0m\u001b[0mshape\u001b[0m\u001b[1;33m\u001b[0m\u001b[1;33m\u001b[0m\u001b[0m\n",
      "\u001b[1;32m~\\Anaconda3\\lib\\site-packages\\pandas\\core\\frame.py\u001b[0m in \u001b[0;36m__getitem__\u001b[1;34m(self, key)\u001b[0m\n\u001b[0;32m   2906\u001b[0m             \u001b[1;32mif\u001b[0m \u001b[0mis_iterator\u001b[0m\u001b[1;33m(\u001b[0m\u001b[0mkey\u001b[0m\u001b[1;33m)\u001b[0m\u001b[1;33m:\u001b[0m\u001b[1;33m\u001b[0m\u001b[1;33m\u001b[0m\u001b[0m\n\u001b[0;32m   2907\u001b[0m                 \u001b[0mkey\u001b[0m \u001b[1;33m=\u001b[0m \u001b[0mlist\u001b[0m\u001b[1;33m(\u001b[0m\u001b[0mkey\u001b[0m\u001b[1;33m)\u001b[0m\u001b[1;33m\u001b[0m\u001b[1;33m\u001b[0m\u001b[0m\n\u001b[1;32m-> 2908\u001b[1;33m             \u001b[0mindexer\u001b[0m \u001b[1;33m=\u001b[0m \u001b[0mself\u001b[0m\u001b[1;33m.\u001b[0m\u001b[0mloc\u001b[0m\u001b[1;33m.\u001b[0m\u001b[0m_get_listlike_indexer\u001b[0m\u001b[1;33m(\u001b[0m\u001b[0mkey\u001b[0m\u001b[1;33m,\u001b[0m \u001b[0maxis\u001b[0m\u001b[1;33m=\u001b[0m\u001b[1;36m1\u001b[0m\u001b[1;33m,\u001b[0m \u001b[0mraise_missing\u001b[0m\u001b[1;33m=\u001b[0m\u001b[1;32mTrue\u001b[0m\u001b[1;33m)\u001b[0m\u001b[1;33m[\u001b[0m\u001b[1;36m1\u001b[0m\u001b[1;33m]\u001b[0m\u001b[1;33m\u001b[0m\u001b[1;33m\u001b[0m\u001b[0m\n\u001b[0m\u001b[0;32m   2909\u001b[0m \u001b[1;33m\u001b[0m\u001b[0m\n\u001b[0;32m   2910\u001b[0m         \u001b[1;31m# take() does not accept boolean indexers\u001b[0m\u001b[1;33m\u001b[0m\u001b[1;33m\u001b[0m\u001b[1;33m\u001b[0m\u001b[0m\n",
      "\u001b[1;32m~\\Anaconda3\\lib\\site-packages\\pandas\\core\\indexing.py\u001b[0m in \u001b[0;36m_get_listlike_indexer\u001b[1;34m(self, key, axis, raise_missing)\u001b[0m\n\u001b[0;32m   1252\u001b[0m             \u001b[0mkeyarr\u001b[0m\u001b[1;33m,\u001b[0m \u001b[0mindexer\u001b[0m\u001b[1;33m,\u001b[0m \u001b[0mnew_indexer\u001b[0m \u001b[1;33m=\u001b[0m \u001b[0max\u001b[0m\u001b[1;33m.\u001b[0m\u001b[0m_reindex_non_unique\u001b[0m\u001b[1;33m(\u001b[0m\u001b[0mkeyarr\u001b[0m\u001b[1;33m)\u001b[0m\u001b[1;33m\u001b[0m\u001b[1;33m\u001b[0m\u001b[0m\n\u001b[0;32m   1253\u001b[0m \u001b[1;33m\u001b[0m\u001b[0m\n\u001b[1;32m-> 1254\u001b[1;33m         \u001b[0mself\u001b[0m\u001b[1;33m.\u001b[0m\u001b[0m_validate_read_indexer\u001b[0m\u001b[1;33m(\u001b[0m\u001b[0mkeyarr\u001b[0m\u001b[1;33m,\u001b[0m \u001b[0mindexer\u001b[0m\u001b[1;33m,\u001b[0m \u001b[0maxis\u001b[0m\u001b[1;33m,\u001b[0m \u001b[0mraise_missing\u001b[0m\u001b[1;33m=\u001b[0m\u001b[0mraise_missing\u001b[0m\u001b[1;33m)\u001b[0m\u001b[1;33m\u001b[0m\u001b[1;33m\u001b[0m\u001b[0m\n\u001b[0m\u001b[0;32m   1255\u001b[0m         \u001b[1;32mreturn\u001b[0m \u001b[0mkeyarr\u001b[0m\u001b[1;33m,\u001b[0m \u001b[0mindexer\u001b[0m\u001b[1;33m\u001b[0m\u001b[1;33m\u001b[0m\u001b[0m\n\u001b[0;32m   1256\u001b[0m \u001b[1;33m\u001b[0m\u001b[0m\n",
      "\u001b[1;32m~\\Anaconda3\\lib\\site-packages\\pandas\\core\\indexing.py\u001b[0m in \u001b[0;36m_validate_read_indexer\u001b[1;34m(self, key, indexer, axis, raise_missing)\u001b[0m\n\u001b[0;32m   1302\u001b[0m             \u001b[1;32mif\u001b[0m \u001b[0mraise_missing\u001b[0m\u001b[1;33m:\u001b[0m\u001b[1;33m\u001b[0m\u001b[1;33m\u001b[0m\u001b[0m\n\u001b[0;32m   1303\u001b[0m                 \u001b[0mnot_found\u001b[0m \u001b[1;33m=\u001b[0m \u001b[0mlist\u001b[0m\u001b[1;33m(\u001b[0m\u001b[0mset\u001b[0m\u001b[1;33m(\u001b[0m\u001b[0mkey\u001b[0m\u001b[1;33m)\u001b[0m \u001b[1;33m-\u001b[0m \u001b[0mset\u001b[0m\u001b[1;33m(\u001b[0m\u001b[0max\u001b[0m\u001b[1;33m)\u001b[0m\u001b[1;33m)\u001b[0m\u001b[1;33m\u001b[0m\u001b[1;33m\u001b[0m\u001b[0m\n\u001b[1;32m-> 1304\u001b[1;33m                 \u001b[1;32mraise\u001b[0m \u001b[0mKeyError\u001b[0m\u001b[1;33m(\u001b[0m\u001b[1;34mf\"{not_found} not in index\"\u001b[0m\u001b[1;33m)\u001b[0m\u001b[1;33m\u001b[0m\u001b[1;33m\u001b[0m\u001b[0m\n\u001b[0m\u001b[0;32m   1305\u001b[0m \u001b[1;33m\u001b[0m\u001b[0m\n\u001b[0;32m   1306\u001b[0m             \u001b[1;31m# we skip the warning on Categorical\u001b[0m\u001b[1;33m\u001b[0m\u001b[1;33m\u001b[0m\u001b[1;33m\u001b[0m\u001b[0m\n",
      "\u001b[1;31mKeyError\u001b[0m: \"['site'] not in index\""
     ]
    }
   ],
   "source": [
    "df_export=pd.read_csv('.\\\\export_Lncel_20230724 (2).csv',delimiter=\",\")\n",
    "df_zb=pd.read_csv('.\\\\zone_blache_2023_07_24.csv',delimiter=\";\",usecols=[\"site\",\"cell_name\",\"earfcn_dl\",\"PCI\"])\n",
    "df_zb.columns=df_export[[\"PCI\",\"earfcnDL\",\"site\",\"name\"]].columns\n",
    "df_glb=pd.concat([df_export[[\"PCI\",\"earfcnDL\",\"site\",\"name\"]],df_zb]).reset_index()\n",
    "df_export.shape"
   ]
  },
  {
   "cell_type": "code",
   "execution_count": null,
   "metadata": {},
   "outputs": [],
   "source": [
    "class Arcep_point():\n",
    "    def __init__(self,df,df_export):\n",
    "        self.df=df\n",
    "        self.df_export=df_export\n",
    "    def merge_pci(self):\n",
    "        self.df.loc[self.df['PCI_5G'].isnull(),'PCI_5G']=self.df[\"Pcell_PCI\"]\n",
    "        self.df.loc[self.df['NR-ARFCN'].isnull(),'NR-ARFCN']=self.df[\"Pcell_NR-ARFCN\"]\n",
    "        return None\n",
    "    def pre_traitement (self):\n",
    "        self.df['PCI_5G']=self.df['PCI_5G'].apply(lambda x: str(x).replace(\"->\",\";\"))\n",
    "\n",
    "        self.df['NR-ARFCN']=self.df['NR-ARFCN'].apply(lambda x: str(x).replace(\"->\",\";\"))\n",
    "        \n",
    "        self.df['NR-ARFCN']=self.df['NR-ARFCN'].apply(lambda x: str(x).split(';'))\n",
    "        self.df['PCI_5G']=self.df['PCI_5G'].apply(lambda x: str(x).split(';'))\n",
    "        self.df_explode=self.df.explode(\"PCI_5G\").explode(\"NR-ARFCN\")\n",
    "        self.df_explode[\"NR-ARFCN\"]=self.df_explode[\"NR-ARFCN\"].str[0:3]+\"000\"\n",
    "        self.df_explode.loc[self.df_explode[\"NR-ARFCN\"]==\"156000\",\"NR-ARFCN\"]=\"0\"\n",
    "        print(self.df_explode.head())\n",
    "        return None\n",
    "        \n",
    "    def oss_export_5G(self):\n",
    "        self.df_export[\"site\"]=self.df_export[\"CellName\"].str[:9]\n",
    "        self.df_export=df_export[self.df_export[\"CellName\"].notnull()]\n",
    "        self.df_ref=pd.merge(self.df_export,df_atoll,how=\"left\",left_on=\"site\",right_on=\"Nom\")\n",
    "        return None\n",
    "    def oss_export_4G(self,df_zb):\n",
    "        self.df_glb=pd.concat([df_export[[\"PCI\",\"earfcnDL\",\"site\",\"name\"]],df_zb]).reset_index()\n",
    "        self.df_ref=pd.merge(self.df_glb,df_atoll,how=\"left\",left_on=\"site\",right_on=\"Nom\")\n",
    "        \n",
    "        return None\n",
    "    def calculate_site(self):\n",
    "        print(self.df_explode.head())\n",
    "        gpd1 = gpd.GeoDataFrame(self.df_explode, geometry=gpd.points_from_xy(self.df_explode['Call_Start_Lon'], self.df_explode['Call Start Lat'])) \n",
    "        gpd2 = gpd.GeoDataFrame(self.df_ref, geometry=gpd.points_from_xy(self.df_ref.Longitude, self.df_ref.Latitude))\n",
    "        gpd2=gpd2[(gpd2[\"Longitude\"].notnull()) & (gpd2[\"Latitude\"].notnull())] \n",
    "        gpd1=gpd1[gpd1[\"NR-ARFCN\"].isin([\"645000\",\"643334\",\"2063331\",\"0\",\"155600\",\"650000\"])] \n",
    "\n",
    "\n",
    "        gpd1=gpd1[gpd1[\"PCI_5G\"]!=\"nan\"]\n",
    "        gpd1=gpd1[(gpd1['Call_Start_Lon'].notnull()) & (gpd1['Call Start Lat'].notnull())&(gpd1['Call_Start_Lon'].notnull()!=0)&(gpd1['Call Start Lat'].notnull()!=0)]\n",
    "        gpd1=gpd1[gpd1[\"PCI_5G\"].notnull()]\n",
    "        print(gpd1.head())\n",
    "        dist,idx=np.empty((0, 2)),np.empty((0, 2))\n",
    "        df_b=pd.DataFrame()\n",
    "        for i in range(0,len(gpd1[\"PCI_5G\"])):    \n",
    "            print(i)\n",
    "            \n",
    "            try:\n",
    "                nA = np.array(list(pd.DataFrame(gpd1.iloc[i].to_frame().T).geometry.apply(lambda x: (x.x, x.y))))\n",
    "                print(gpd1.iloc[i][\"PCI_5G\"])\n",
    "                print(gpd1.iloc[i][\"NR-ARFCN\"])\n",
    "                nB = np.array(list(pd.DataFrame(gpd2[(gpd2[\"physCellId\"]==int(pd.DataFrame(gpd1.iloc[i].to_frame().T)[\"PCI_5G\"]))&((gpd2[\"nrarfcn\"]==int(pd.DataFrame(gpd1.iloc[i].to_frame().T)[\"NR-ARFCN\"])))].reset_index()).geometry.apply(lambda x: (x.x, x.y))))\n",
    "                gpd_exp=gpd2[(gpd2[\"physCellId\"]==int(pd.DataFrame(gpd1.iloc[i].to_frame().T)[\"PCI_5G\"]))&(gpd2[\"nrarfcn\"]==int(pd.DataFrame(gpd1.iloc[i].to_frame().T)[\"NR-ARFCN\"]))].reset_index()\n",
    "                nB = np.array(list(pd.DataFrame(gpd2[(gpd2[\"physCellId\"]==int(pd.DataFrame(gpd1.iloc[i].to_frame().T)[\"PCI_5G\"]))&((gpd2[\"nrarfcn\"]==int(pd.DataFrame(gpd1.iloc[i].to_frame().T)[\"NR-ARFCN\"])))].reset_index()).geometry.apply(lambda x: (x.x, x.y))))\n",
    "                btree = cKDTree(nB)\n",
    "                dist_i, idx_i =btree.query(nA,k=2)\n",
    "                print(dist_i)   \n",
    "                dist=np.concatenate([dist,dist_i])\n",
    "                idx=np.concatenate([idx,idx_i])\n",
    "                df_b=df_b.append(pd.concat([pd.concat([gpd1.iloc[i].to_frame().T]*2).reset_index(),gpd_exp.iloc[idx_i.tolist()[0],:].drop(columns=\"geometry\").reset_index(drop=True),pd.Series(dist_i[0],name='dist')],axis=1))\n",
    "                print(df_append.head())\n",
    "            except:\n",
    "                pass\n",
    "        return df_b"
   ]
  },
  {
   "cell_type": "code",
   "execution_count": null,
   "metadata": {},
   "outputs": [],
   "source": [
    "obj_5G=Arcep_point(df_arcep,df_export)\n",
    "obj_5G.merge_pci()\n",
    "obj_5G.oss_export_5G()\n",
    "obj_5G.pre_traitement()"
   ]
  },
  {
   "cell_type": "code",
   "execution_count": null,
   "metadata": {},
   "outputs": [],
   "source": [
    "obj_5G.merge_pci()"
   ]
  },
  {
   "cell_type": "code",
   "execution_count": null,
   "metadata": {},
   "outputs": [],
   "source": [
    "obj_5G.oss_export_5G()"
   ]
  },
  {
   "cell_type": "code",
   "execution_count": null,
   "metadata": {},
   "outputs": [],
   "source": [
    "obj_5G.pre_traitement()"
   ]
  },
  {
   "cell_type": "code",
   "execution_count": null,
   "metadata": {},
   "outputs": [],
   "source": [
    "obj_5G.df_explode"
   ]
  },
  {
   "cell_type": "code",
   "execution_count": null,
   "metadata": {},
   "outputs": [],
   "source": [
    "df_5G=obj_5G.calculate_site()"
   ]
  },
  {
   "cell_type": "code",
   "execution_count": null,
   "metadata": {},
   "outputs": [],
   "source": [
    "df_5G.shape"
   ]
  },
  {
   "cell_type": "code",
   "execution_count": null,
   "metadata": {},
   "outputs": [],
   "source": [
    "def haversine_vectorize(lon1, lat1, lon2, lat2):\n",
    "    lon1, lat1, lon2, lat2=lon1.astype(\"float\"),lat1.astype(\"float\"),lon2.astype(\"float\"),lat2.astype(\"float\")\n",
    "    lon1, lat1, lon2, lat2 = map(np.radians, [lon1, lat1, lon2, lat2])\n",
    "    newlon = lon2 - lon1\n",
    "    newlat = lat2 - lat1\n",
    "        \n",
    "    haver_formula = np.sin(newlat/2.0)**2 + np.cos(lat1) * np.cos(lat2) * np.sin(newlon/2.0)**2\n",
    "    dist = 2 * np.arcsin(np.sqrt(haver_formula ))\n",
    "    km = 6367 * dist #6367 for distance in KM for miles use 3958\n",
    "    return km"
   ]
  },
  {
   "cell_type": "code",
   "execution_count": null,
   "metadata": {},
   "outputs": [],
   "source": [
    " df_5G[\"distance_Km\"]=haversine_vectorize(df_5G[\"Call_Start_Lon\"],df_5G['Call Start Lat'],df_5G[\"Longitude\"],df_5G[\"Latitude\"])"
   ]
  },
  {
   "cell_type": "code",
   "execution_count": null,
   "metadata": {},
   "outputs": [],
   "source": [
    "df_5G[\"dist_min\"]=df_5G.groupby(['PCI_5G','NR-ARFCN','Call_Start_Lon','Call Start Lat','Usage'])[\"distance_Km\"].transform('min')"
   ]
  },
  {
   "cell_type": "code",
   "execution_count": null,
   "metadata": {},
   "outputs": [],
   "source": [
    "df_5G=df_5G[df_5G[\"distance_Km\"]==df_5G['dist_min']]"
   ]
  },
  {
   "cell_type": "code",
   "execution_count": null,
   "metadata": {},
   "outputs": [],
   "source": [
    "df_c=df_5G.drop_duplicates(subset=[\"Address\",\"PCI_5G\",\"NR-ARFCN\",\"Usage\"], keep='first')\n"
   ]
  },
  {
   "cell_type": "code",
   "execution_count": null,
   "metadata": {},
   "outputs": [],
   "source": [
    "\n",
    "import folium\n",
    "import seaborn as sns\n",
    "\n",
    "\n",
    "mai=folium.Map(location=[48.862, 2.346], zoom_start=6)\n",
    "\n",
    "\n",
    "\n",
    "for grp_name,df_grp in df_c.groupby('Usage'):\n",
    "    feature_group=folium.FeatureGroup(grp_name)\n",
    "    locations = df_grp[['Call Start Lat','Call_Start_Lon']]\n",
    "    locationlist = locations.values.tolist() \n",
    "    locations_nigh=df_grp[['Latitude', 'Longitude']]\n",
    "    location_nigh = locations_nigh.values.tolist()\n",
    "    \n",
    "    for point,pt in zip(range(0, len(locationlist)),range(0, len(location_nigh))):\n",
    "        liste=[]\n",
    "        liste.append(tuple(locationlist[point]))\n",
    "        liste.append(tuple(location_nigh[pt]))\n",
    "        \n",
    "        \n",
    "        iframe = folium.IFrame('Addresse:' + str(df_grp.iloc[point,:][\"Address\"]) + '<br>' + 'PCI: '+str(df_grp.iloc[point,:][\"PCI_5G\"]) + '<br>' + 'USage: ' + str(df_grp.iloc[point,:][\"Usage\"]))\n",
    "        iframe_pt = folium.IFrame('Cell_name:' + str(df_grp.iloc[pt,:][\"CellName\"]) + '<br>' + 'PCI: '+str(df_grp.iloc[pt,:][\"PCI_5G\"])+ '<br>' + 'CA  Ratio: '+str(df_grp.iloc[pt,:]['LTE CA Network Ratio'])+'<br>' + 'Serving Cell RSRP: '+str(df_grp.iloc[pt,:]['Serving Cell RSRP']))\n",
    "     \n",
    "        popup = folium.Popup(iframe, min_width=200, max_width=300)\n",
    "        \n",
    "        color_pallete = sns.color_palette()\n",
    "        color_pallete = sns.color_palette(\"Set2\", 8000)\n",
    "        color_pallete = color_pallete.as_hex()\n",
    "\n",
    "        folium.Marker(locationlist[point],\n",
    "                  popup=popup).add_to(feature_group)\n",
    "        feature_group.add_to(mai)\n",
    "        folium.PolyLine(liste,color=\"red\", weight=2.5, opacity=3).add_to(feature_group)\n",
    "        feature_group.add_to(mai)\n",
    "                          \n",
    "        popup_pt = folium.Popup(iframe_pt, min_width=200, max_width=250)\n",
    "        folium.CircleMarker(location_nigh[pt],popup=popup_pt,).add_to(feature_group)\n",
    "        feature_group.add_to(mai)\n",
    "\n",
    "folium.LayerControl().add_to(mai)\n",
    "    \n",
    "mai.save('./Arcep_map_Class_5G.html')\n",
    "mai"
   ]
  },
  {
   "cell_type": "code",
   "execution_count": null,
   "metadata": {},
   "outputs": [],
   "source": [
    "df_arcep=df_point.copy()"
   ]
  },
  {
   "cell_type": "code",
   "execution_count": null,
   "metadata": {},
   "outputs": [],
   "source": []
  },
  {
   "cell_type": "code",
   "execution_count": null,
   "metadata": {},
   "outputs": [],
   "source": [
    "  \n",
    "class Arcep_point():\n",
    "    def __init__(self,df,df_export,tech):\n",
    "        self.df=df\n",
    "        self.tech=tech\n",
    "        self.df_export=df_export\n",
    "        if tech==\"5G\":\n",
    "            self.pci='PCI_5G'\n",
    "            self.arfcn='NR-ARFCN'\n",
    "        elif tech==\"4G\":\n",
    "            self.pci='Serving PCI'\n",
    "            self.arfcn='Serving Cell EARFCN'      \n",
    "    \n",
    "    def merge_pci(self):\n",
    "        self.df.loc[self.df[self.pci].isnull(),self.pci]=self.df[\"Pcell_PCI\"]\n",
    "        self.df.loc[self.df[self.arfcn].isnull(),self.arfcn]=self.df[\"Pcell_NR-ARFCN\"]\n",
    "        return None\n",
    "    def pre_traitement (self):\n",
    "        self.df[self.pci]=self.df[self.pci].apply(lambda x: str(x).replace(\"->\",\";\"))\n",
    "\n",
    "        self.df[self.arfcn]=self.df[self.arfcn].apply(lambda x: str(x).replace(\"->\",\";\"))\n",
    "        \n",
    "        self.df[self.arfcn]=self.df[self.arfcn].apply(lambda x: str(x).split(';'))\n",
    "        self.df[self.pci]=self.df[self.pci].apply(lambda x: str(x).split(';'))\n",
    "        self.df_explode=self.df.explode(self.pci).explode(self.arfcn)\n",
    "        return None\n",
    "        \n",
    "    def oss_export_5G(self):\n",
    "        \n",
    "        self.df_explode[self.arfcn]=self.df_explode[self.arfcn].str[0:3]+\"000\"\n",
    "        self.df_explode.loc[self.df_explode[self.arfcn]==\"156000\",self.arfcn]=\"0\"\n",
    "        self.df_export[\"site\"]=self.df_export[\"CellName\"].str[:9]\n",
    "        self.df_export=self.df_export[self.df_export[\"CellName\"].notnull()]\n",
    "        self.df_ref=pd.merge(self.df_export,df_atoll,how=\"left\",left_on=\"site\",right_on=\"Nom\")\n",
    "        return None\n",
    "    def oss_export_4G(self,df_zb):\n",
    "        self.df_export[\"site\"]=self.df_export[\"name\"].str[:9]\n",
    "        df_zb.columns=self.df_export[[\"PCI\",\"earfcnDL\",\"site\",\"name\"]].columns\n",
    "        self.df_glb=pd.concat([self.df_export[[\"PCI\",\"earfcnDL\",\"site\",\"name\"]],df_zb]).reset_index()\n",
    "        self.df_ref=pd.merge(self.df_glb,df_atoll,how=\"left\",left_on=\"site\",right_on=\"Nom\")\n",
    "        \n",
    "        return None\n",
    "    def Gpd_creating(self):\n",
    "        gpd1 = gpd.GeoDataFrame(self.df_explode, geometry=gpd.points_from_xy(self.df_explode['Call_Start_Lon'], self.df_explode['Call Start Lat'])) \n",
    "        gpd2 = gpd.GeoDataFrame(self.df_ref, geometry=gpd.points_from_xy(self.df_ref.Longitude, self.df_ref.Latitude))\n",
    "        gpd2=gpd2[(gpd2[\"Longitude\"].notnull()) & (gpd2[\"Latitude\"].notnull())] \n",
    "        arfcn_list=[]\n",
    "        print(gpd1.head())\n",
    "        \n",
    "        if self.tech==\"5G\":\n",
    "            arfcn_list=[\"645000\",\"643334\",\"2063331\",\"0\",\"155600\",\"650000\"]\n",
    "            PCI_oss=\"physCellId\"\n",
    "            arfcn_oss=\"nrarfcn\"\n",
    "            \n",
    "        elif self.tech==\"4G\":\n",
    "            arfcn_list=[\"9460\",\"3350\",\"1675\",\"9335\",\"6275\",\"351\",\"375\",\"6200\",\"400\"]           \n",
    "            PCI_oss=\"PCI\"\n",
    "            arfcn_oss=\"earfcnDL\"\n",
    "        print(arfcn_list)\n",
    "        print(self.arfcn)\n",
    "        gpd1=gpd1[gpd1[self.arfcn].isin(arfcn_list)] \n",
    "        \n",
    "    \n",
    "\n",
    "        gpd1=gpd1[gpd1[self.pci]!=\"nan\"]\n",
    "        gpd1=gpd1[(gpd1['Call_Start_Lon'].notnull()) & (gpd1['Call Start Lat'].notnull())&(gpd1['Call_Start_Lon'].notnull()!=0)&(gpd1['Call Start Lat'].notnull()!=0)]\n",
    "        gpd1=gpd1[gpd1[self.pci].notnull()]\n",
    "        print(gpd1.head())\n",
    "        dist,idx=np.empty((0, 2)),np.empty((0, 2))\n",
    "        df_b=pd.DataFrame()\n",
    "        for i in range(0,len(gpd1[self.pci])):  \n",
    "            try:\n",
    "                nA = np.array(list(pd.DataFrame(gpd1.iloc[i].to_frame().T).geometry.apply(lambda x: (x.x, x.y))))\n",
    "               \n",
    "                nB = np.array(list(pd.DataFrame(gpd2[(gpd2[PCI_oss]==int(pd.DataFrame(gpd1.iloc[i].to_frame().T)[self.pci]))&((gpd2[arfcn_oss]==int(pd.DataFrame(gpd1.iloc[i].to_frame().T)[self.arfcn])))].reset_index()).geometry.apply(lambda x: (x.x, x.y))))\n",
    "                gpd_exp=gpd2[(gpd2[PCI_oss]==int(pd.DataFrame(gpd1.iloc[i].to_frame().T)[self.pci]))&(gpd2[arfcn_oss]==int(pd.DataFrame(gpd1.iloc[i].to_frame().T)[self.arfcn]))].reset_index()\n",
    "                \n",
    "                nB = np.array(list(pd.DataFrame(gpd2[(gpd2[PCI_oss]==int(pd.DataFrame(gpd1.iloc[i].to_frame().T)[self.pci]))&((gpd2[arfcn_oss]==int(pd.DataFrame(gpd1.iloc[i].to_frame().T)[self.arfcn])))].reset_index()).geometry.apply(lambda x: (x.x, x.y))))\n",
    "                print(nA)\n",
    "                print(nB)\n",
    "                btree = cKDTree(nB)\n",
    "                dist_i, idx_i =btree.query(nA,k=2)\n",
    "                print(dist_i)   \n",
    "                dist=np.concatenate([dist,dist_i])\n",
    "                idx=np.concatenate([idx,idx_i])\n",
    "                df_b=df_b.append(pd.concat([pd.concat([gpd1.iloc[i].to_frame().T]*2).reset_index(),gpd_exp.iloc[idx_i.tolist()[0],:].drop(columns=\"geometry\").reset_index(drop=True),pd.Series(dist_i[0],name='dist')],axis=1))\n",
    "                print(df_b.head())\n",
    "            except:\n",
    "                pass\n",
    "\n",
    "          \n",
    "\n",
    "        return df_b"
   ]
  },
  {
   "cell_type": "code",
   "execution_count": null,
   "metadata": {},
   "outputs": [],
   "source": [
    "obj_5G=Arcep_point(df_arcep,df_export,\"5G\")\n"
   ]
  },
  {
   "cell_type": "code",
   "execution_count": null,
   "metadata": {},
   "outputs": [],
   "source": [
    "obj_5G.merge_pci()"
   ]
  },
  {
   "cell_type": "code",
   "execution_count": null,
   "metadata": {},
   "outputs": [],
   "source": [
    "obj_5G.pre_traitement()"
   ]
  },
  {
   "cell_type": "code",
   "execution_count": null,
   "metadata": {},
   "outputs": [],
   "source": [
    "obj_5G.oss_export_5G()\n"
   ]
  },
  {
   "cell_type": "code",
   "execution_count": null,
   "metadata": {},
   "outputs": [],
   "source": [
    "df_nr=obj_5G.Gpd_creating()"
   ]
  },
  {
   "cell_type": "code",
   "execution_count": null,
   "metadata": {},
   "outputs": [],
   "source": [
    "df_nr.head()"
   ]
  },
  {
   "cell_type": "code",
   "execution_count": null,
   "metadata": {},
   "outputs": [],
   "source": [
    "df_export_4G=pd.read_csv('.\\\\export_Lncel_20230724 (2).csv',delimiter=\",\")"
   ]
  },
  {
   "cell_type": "code",
   "execution_count": null,
   "metadata": {},
   "outputs": [],
   "source": [
    "obj_4G=Arcep_point(df_arcep,df_export_4G,\"4G\")\n"
   ]
  },
  {
   "cell_type": "code",
   "execution_count": null,
   "metadata": {},
   "outputs": [],
   "source": [
    "df_zb=pd.read_csv('.\\\\zone_blache_2023_07_24.csv',delimiter=\";\",usecols=[\"site\",\"cell_name\",\"earfcn_dl\",\"PCI\"])\n",
    "\n"
   ]
  },
  {
   "cell_type": "code",
   "execution_count": null,
   "metadata": {},
   "outputs": [],
   "source": [
    "obj_4G.pre_traitement()"
   ]
  },
  {
   "cell_type": "code",
   "execution_count": null,
   "metadata": {},
   "outputs": [],
   "source": [
    "obj_4G.oss_export_4G(df_zb)"
   ]
  },
  {
   "cell_type": "code",
   "execution_count": null,
   "metadata": {},
   "outputs": [],
   "source": [
    "df_4G=obj_4G.Gpd_creating()"
   ]
  },
  {
   "cell_type": "code",
   "execution_count": null,
   "metadata": {},
   "outputs": [],
   "source": [
    "df_4G.head()"
   ]
  },
  {
   "cell_type": "code",
   "execution_count": null,
   "metadata": {},
   "outputs": [],
   "source": [
    "def haversine_vectorize(lon1, lat1, lon2, lat2):\n",
    "    lon1, lat1, lon2, lat2=lon1.astype(\"float\"),lat1.astype(\"float\"),lon2.astype(\"float\"),lat2.astype(\"float\")\n",
    "    lon1, lat1, lon2, lat2 = map(np.radians, [lon1, lat1, lon2, lat2])\n",
    "    newlon = lon2 - lon1\n",
    "    newlat = lat2 - lat1\n",
    "        \n",
    "    haver_formula = np.sin(newlat/2.0)**2 + np.cos(lat1) * np.cos(lat2) * np.sin(newlon/2.0)**2\n",
    "    dist = 2 * np.arcsin(np.sqrt(haver_formula ))\n",
    "    km = 6367 * dist #6367 for distance in KM for miles use 3958\n",
    "    return km"
   ]
  },
  {
   "cell_type": "code",
   "execution_count": null,
   "metadata": {},
   "outputs": [],
   "source": [
    " df_4G[\"distance_Km\"]=haversine_vectorize(df_4G[\"Call_Start_Lon\"],df_4G['Call Start Lat'],df_4G[\"Longitude\"],df_4G[\"Latitude\"])"
   ]
  },
  {
   "cell_type": "code",
   "execution_count": null,
   "metadata": {},
   "outputs": [],
   "source": [
    "df_4G[\"dist_min\"]=df_4G.groupby(['Serving PCI','Serving Cell EARFCN','Call_Start_Lon','Call Start Lat','Usage'])[\"distance_Km\"].transform('min')"
   ]
  },
  {
   "cell_type": "code",
   "execution_count": null,
   "metadata": {},
   "outputs": [],
   "source": [
    "df_4G=df_4G[df_4G[\"distance_Km\"]==df_4G['dist_min']]"
   ]
  },
  {
   "cell_type": "code",
   "execution_count": null,
   "metadata": {},
   "outputs": [],
   "source": [
    "df_c=df_5G.drop_duplicates(subset=[\"Address\",\"Pcell_PCI\",\"Serving Cell EARFCN\",\"Usage\"], keep='first')\n"
   ]
  },
  {
   "cell_type": "code",
   "execution_count": null,
   "metadata": {},
   "outputs": [],
   "source": [
    "import folium\n",
    "import seaborn as sns\n",
    "\n",
    "\n",
    "mai=folium.Map(location=[48.862, 2.346], zoom_start=6)\n",
    "\n",
    "\n",
    "\n",
    "for grp_name,df_grp in df_c.groupby('Usage'):\n",
    "    feature_group=folium.FeatureGroup(grp_name)\n",
    "    locations = df_grp[['Call Start Lat','Call_Start_Lon']]\n",
    "    locationlist = locations.values.tolist() \n",
    "    locations_nigh=df_grp[['Latitude', 'Longitude']]\n",
    "    location_nigh = locations_nigh.values.tolist()\n",
    "    \n",
    "    for point,pt in zip(range(0, len(locationlist)),range(0, len(location_nigh))):\n",
    "        liste=[]\n",
    "        liste.append(tuple(locationlist[point]))\n",
    "        liste.append(tuple(location_nigh[pt]))\n",
    "        \n",
    "        \n",
    "        iframe = folium.IFrame('Addresse:' + str(df_grp.iloc[point,:][\"Address\"]) + '<br>' + 'PCI: '+str(df_grp.iloc[point,:][\"PCI_5G\"]) + '<br>' + 'USage: ' + str(df_grp.iloc[point,:][\"Usage\"]))\n",
    "        iframe_pt = folium.IFrame('Cell_name:' + str(df_grp.iloc[pt,:][\"CellName\"]) + '<br>' + 'PCI: '+str(df_grp.iloc[pt,:][\"PCI_5G\"])+ '<br>' + 'CA  Ratio: '+str(df_grp.iloc[pt,:]['LTE CA Network Ratio'])+'<br>' + 'Serving Cell RSRP: '+str(df_grp.iloc[pt,:]['Serving Cell RSRP']))\n",
    "     \n",
    "        popup = folium.Popup(iframe, min_width=200, max_width=300)\n",
    "        \n",
    "        color_pallete = sns.color_palette()\n",
    "        color_pallete = sns.color_palette(\"Set2\", 8000)\n",
    "        color_pallete = color_pallete.as_hex()\n",
    "\n",
    "        folium.Marker(locationlist[point],\n",
    "                  popup=popup).add_to(feature_group)\n",
    "        feature_group.add_to(mai)\n",
    "        folium.PolyLine(liste,color=\"red\", weight=2.5, opacity=3).add_to(feature_group)\n",
    "        feature_group.add_to(mai)\n",
    "                          \n",
    "        popup_pt = folium.Popup(iframe_pt, min_width=200, max_width=250)\n",
    "        folium.CircleMarker(location_nigh[pt],popup=popup_pt,).add_to(feature_group)\n",
    "        feature_group.add_to(mai)\n",
    "\n",
    "folium.LayerControl().add_to(mai)\n",
    "    \n",
    "mai.save('./Arcep_map_Class_5G.html')\n",
    "mai"
   ]
  },
  {
   "cell_type": "code",
   "execution_count": null,
   "metadata": {},
   "outputs": [],
   "source": []
  }
 ],
 "metadata": {
  "kernelspec": {
   "display_name": "Python 3",
   "language": "python",
   "name": "python3"
  },
  "language_info": {
   "codemirror_mode": {
    "name": "ipython",
    "version": 3
   },
   "file_extension": ".py",
   "mimetype": "text/x-python",
   "name": "python",
   "nbconvert_exporter": "python",
   "pygments_lexer": "ipython3",
   "version": "3.8.5"
  }
 },
 "nbformat": 4,
 "nbformat_minor": 4
}
